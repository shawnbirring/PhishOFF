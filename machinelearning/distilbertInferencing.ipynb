{
 "cells": [
  {
   "cell_type": "code",
   "id": "initial_id",
   "metadata": {
    "collapsed": true,
    "ExecuteTime": {
     "end_time": "2025-03-14T15:12:58.259293Z",
     "start_time": "2025-03-14T15:12:56.696839Z"
    }
   },
   "source": [
    "from transformers import DistilBertForSequenceClassification, DistilBertTokenizer\n",
    "import torch\n"
   ],
   "outputs": [],
   "execution_count": 1
  },
  {
   "metadata": {
    "ExecuteTime": {
     "end_time": "2025-03-14T16:51:29.393544Z",
     "start_time": "2025-03-14T16:51:28.505866Z"
    }
   },
   "cell_type": "code",
   "source": [
    "# device = \"cuda\" # the device to load the model onto\n",
    "if torch.cuda.is_available():\n",
    "    device = \"cuda\"\n",
    "else:\n",
    "    device = \"cpu\"\n",
    "\n",
    "print(\"Device: \" + device)\n",
    "model_location = \"./model\"\n",
    "\n",
    "model = DistilBertForSequenceClassification.from_pretrained(\n",
    "    model_location,\n",
    "    torch_dtype=torch.bfloat16 if torch.cuda.is_available() else torch.float32,\n",
    "    attn_implementation=\"flash_attention_2\"\n",
    ").to(device)\n",
    "\n",
    "tokenizer = DistilBertTokenizer.from_pretrained(model_location)\n"
   ],
   "id": "299f17b98a76d098",
   "outputs": [
    {
     "name": "stdout",
     "output_type": "stream",
     "text": [
      "Device: cuda\n"
     ]
    }
   ],
   "execution_count": 37
  },
  {
   "metadata": {
    "ExecuteTime": {
     "end_time": "2025-03-14T16:51:32.140311Z",
     "start_time": "2025-03-14T16:51:32.137867Z"
    }
   },
   "cell_type": "code",
   "source": [
    "def tokenize(text):\n",
    "    return tokenizer(text, padding=\"max_length\", truncation=True, max_length=512, return_tensors=\"pt\")"
   ],
   "id": "2fea672c31eb8f8f",
   "outputs": [],
   "execution_count": 39
  },
  {
   "metadata": {
    "ExecuteTime": {
     "end_time": "2025-03-14T16:51:34.058731Z",
     "start_time": "2025-03-14T16:51:34.055741Z"
    }
   },
   "cell_type": "code",
   "source": [
    "def predict(text):\n",
    "    inputs = tokenize(text)\n",
    "    inputs = {key: val.to(device) for key, val in inputs.items()}\n",
    "\n",
    "    model.eval()\n",
    "    with torch.no_grad():\n",
    "        outputs = model(**inputs)\n",
    "\n",
    "    prediction = torch.argmax(outputs.logits, dim=1).item()\n",
    "    return \"Phishing\" if prediction == 1 else \"Safe\""
   ],
   "id": "8e3feefd4bede912",
   "outputs": [],
   "execution_count": 40
  },
  {
   "metadata": {
    "ExecuteTime": {
     "end_time": "2025-03-14T18:51:21.287815Z",
     "start_time": "2025-03-14T18:51:21.276306Z"
    }
   },
   "cell_type": "code",
   "source": [
    "test_email = \"\"\"get your presc [ ription filled in seconds !\"\"\"\n",
    "result = predict(test_email)\n",
    "print(result)"
   ],
   "id": "9940a03e09fd056",
   "outputs": [
    {
     "name": "stdout",
     "output_type": "stream",
     "text": [
      "Phishing\n"
     ]
    }
   ],
   "execution_count": 45
  },
  {
   "metadata": {
    "ExecuteTime": {
     "end_time": "2025-03-14T18:51:18.568641Z",
     "start_time": "2025-03-14T18:51:18.556311Z"
    }
   },
   "cell_type": "code",
   "source": [
    "test_safe = \"\"\"request submitted : access request for leann . walton @ enron . com you have received this email because you are listed as an alternate data approver . please click approval to review and act upon this request . request id : 000000000005168 approver : stinson . gibner @ enron . com request create date : 10 / 18 / 00 2 : 06 : 37 pm requested for : leann . walton @ enron . com resource name : \\ \\ enehou \\ houston \\ common \\ research - [ read / write ] resource type : directory\"\"\"\n",
    "result = predict(test_safe)\n",
    "print(result)"
   ],
   "id": "4831a21b945a2a38",
   "outputs": [
    {
     "name": "stdout",
     "output_type": "stream",
     "text": [
      "Safe\n"
     ]
    }
   ],
   "execution_count": 44
  }
 ],
 "metadata": {
  "kernelspec": {
   "display_name": "Python 3",
   "language": "python",
   "name": "python3"
  },
  "language_info": {
   "codemirror_mode": {
    "name": "ipython",
    "version": 2
   },
   "file_extension": ".py",
   "mimetype": "text/x-python",
   "name": "python",
   "nbconvert_exporter": "python",
   "pygments_lexer": "ipython2",
   "version": "2.7.6"
  }
 },
 "nbformat": 4,
 "nbformat_minor": 5
}
